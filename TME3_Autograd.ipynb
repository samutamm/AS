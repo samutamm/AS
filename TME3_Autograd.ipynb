{
 "cells": [
  {
   "cell_type": "markdown",
   "metadata": {},
   "source": [
    "# Autograd - 2 couche reseaux\n",
    "\n",
    "On va créer une modele suivant avec l'autograd de PyTorch.\n",
    "\n",
    "Lineaire --> Tanh --> Lineaire --> Logistic -> CrossEntropy"
   ]
  },
  {
   "cell_type": "code",
   "execution_count": 2,
   "metadata": {},
   "outputs": [],
   "source": [
    "import numpy as np\n",
    "import pandas as pd\n",
    "import torch\n",
    "from sklearn.model_selection import train_test_split\n",
    "import matplotlib.pyplot as plt\n",
    "import sys\n",
    "from Function import Function\n",
    "from losses import MSE\n",
    "from activations import TanhActivation, SigmoidActivation\n",
    "\n",
    "from load_data import get_train_test_loaders\n",
    "\n",
    "from torch.nn.modules.loss import CrossEntropyLoss\n",
    "\n",
    "%load_ext autoreload\n",
    "%autoreload 2"
   ]
  },
  {
   "cell_type": "code",
   "execution_count": 3,
   "metadata": {},
   "outputs": [],
   "source": [
    "train_loader,test_loader, train_size, test_size = get_train_test_loaders(binary=False)\n",
    "\n",
    "def get_minibatches(loader, device):\n",
    "    for data, target in loader:\n",
    "        normalize = torch.nn.BatchNorm2d(1)\n",
    "        data = normalize(data)\n",
    "        \n",
    "        data = torch.squeeze(data)\n",
    "        target = target.cuda(async=True)\n",
    "        data = data.cuda(async=True)\n",
    "        \n",
    "        batch_n = data.size()[0]\n",
    "        X = data.view(batch_n, -1)\n",
    "        ones = torch.ones((X.size()[0], 1), device=device)\n",
    "        X = torch.cat((X, ones), 1)\n",
    "        \n",
    "        y_onehot = torch.zeros((target.size()[0], 10), device=device)\n",
    "        y_onehot.zero_()\n",
    "        y_onehot.scatter_(1, target.view(-1,1), 1)\n",
    "        \n",
    "        X = torch.autograd.Variable(X)\n",
    "        y = torch.autograd.Variable(y_onehot)\n",
    "        yield X.t(), y"
   ]
  },
  {
   "cell_type": "code",
   "execution_count": 5,
   "metadata": {},
   "outputs": [
    {
     "name": "stdout",
     "output_type": "stream",
     "text": [
      "0 2.2923989295959473\n",
      "10 2.249753952026367\n",
      "20 2.241396903991699\n",
      "30 2.150480270385742\n",
      "40 2.151261806488037\n",
      "50 2.1466073989868164\n",
      "60 2.1186318397521973\n",
      "70 2.0257647037506104\n",
      "80 2.0383858680725098\n",
      "90 2.0681352615356445\n",
      "100 2.1450116634368896\n",
      "110 1.9879568815231323\n",
      "120 1.9320026636123657\n",
      "130 1.947105884552002\n",
      "140 1.987924337387085\n",
      "150 1.8582757711410522\n",
      "160 1.9232360124588013\n",
      "170 1.8711031675338745\n",
      "180 1.8468153476715088\n",
      "190 1.9558871984481812\n",
      "200 2.040591239929199\n",
      "210 1.9262630939483643\n",
      "220 1.8248393535614014\n",
      "230 1.8253458738327026\n",
      "240 1.8114335536956787\n",
      "250 1.9144514799118042\n",
      "260 1.7801291942596436\n",
      "270 1.8339366912841797\n",
      "280 2.114084243774414\n",
      "290 1.8261442184448242\n",
      "300 1.8168941736221313\n",
      "310 1.8276903629302979\n",
      "320 2.0487921237945557\n",
      "330 1.9152474403381348\n",
      "340 2.237149238586426\n",
      "350 1.7768776416778564\n",
      "360 2.2747020721435547\n",
      "370 1.908767580986023\n",
      "380 1.8075296878814697\n",
      "390 1.7952101230621338\n",
      "400 1.8073632717132568\n",
      "410 1.7766324281692505\n",
      "420 2.0266222953796387\n",
      "430 1.7361090183258057\n",
      "440 2.2387375831604004\n",
      "450 1.7380973100662231\n",
      "460 1.74744713306427\n",
      "470 1.6831917762756348\n",
      "480 1.7504668235778809\n",
      "490 1.7031937837600708\n",
      "500 1.8819129467010498\n",
      "510 1.7739797830581665\n",
      "520 1.6965205669403076\n",
      "530 1.7490622997283936\n",
      "540 1.751455307006836\n",
      "550 1.6721171140670776\n",
      "560 1.7218914031982422\n",
      "570 1.7057137489318848\n",
      "580 2.286214828491211\n",
      "590 1.6772534847259521\n"
     ]
    }
   ],
   "source": [
    "torch.cuda.set_device(0)\n",
    "device = torch.device('cuda')\n",
    "dtype = torch.float\n",
    "\n",
    "layers_dims = [28*28 + 1, 128, 10]\n",
    "batch_N = 64\n",
    "\n",
    "activation1 = TanhActivation() # Tanh\n",
    "activation2 = SigmoidActivation() # Sigmoid\n",
    "\n",
    "loss_function = CrossEntropyLoss()\n",
    "test_loss_function = CrossEntropyLoss()\n",
    "function = Function()\n",
    "\n",
    "w1 = torch.randn(layers_dims[1], layers_dims[0], dtype=dtype, device=device, requires_grad=True)\n",
    "w2 = torch.randn(layers_dims[2], layers_dims[1], dtype=dtype, device=device, requires_grad=True)\n",
    "\n",
    "with torch.no_grad():\n",
    "    w1 *= 0.05\n",
    "    w2 *= 0.05\n",
    "\n",
    "errors = []\n",
    "test_errors = []\n",
    "accuracy = []\n",
    "\n",
    "learning_rate = 1e-4\n",
    "for t in range(600):\n",
    "    \n",
    "    epoch_loss = []\n",
    "    for i,(X, y) in enumerate(get_minibatches(train_loader, device)):\n",
    "        y_h1 = function.forward(w1, X)\n",
    "        y_h2 = activation1.forward(y_h1)\n",
    "        y_h3 = function.forward(w2, y_h2)\n",
    "        y_pred = activation2.forward(y_h3).t()\n",
    "        \n",
    "        # replace nans with 0\n",
    "        y_pred = torch.where(torch.isnan(y_pred), torch.zeros(1, device=device, dtype=dtype), y_pred)\n",
    "                             \n",
    "        loss = loss_function(y_pred, y.argmax(1))\n",
    "        epoch_loss.append(loss.item())\n",
    "        loss.backward()\n",
    "        \n",
    "        with torch.no_grad():\n",
    "            #import pdb; pdb.set_trace()\n",
    "            w1 -= learning_rate * w1.grad\n",
    "            w2 -= learning_rate * w2.grad\n",
    "\n",
    "            # Manually zero the gradients after running the backward pass\n",
    "            w1.grad.zero_()\n",
    "            w2.grad.zero_()\n",
    "    errors.append(np.array(epoch_loss).mean())\n",
    "    \n",
    "    if t % 10 == 0:\n",
    "        with torch.no_grad():\n",
    "            corrects = 0\n",
    "            test_epoch_loss = []\n",
    "            for i,(X, y) in enumerate(get_minibatches(test_loader, device)):\n",
    "                y_h1 = function.forward(w1, X)\n",
    "                y_h2 = activation1.forward(y_h1)\n",
    "                y_h3 = function.forward(w2, y_h2)\n",
    "                y_pred = activation2.forward(y_h3).t()\n",
    "\n",
    "                test_loss = test_loss_function(y_pred, y.argmax(1))\n",
    "                test_epoch_loss.append(test_loss.item())\n",
    "                corrects += (y_pred.argmax(1) == y.argmax(1)).sum()\n",
    "\n",
    "            test_errors.append((t, np.array(test_epoch_loss).mean()))\n",
    "            accuracy.append(corrects.cpu().numpy() / test_size)\n",
    "            print(t, loss.item())"
   ]
  },
  {
   "cell_type": "code",
   "execution_count": 7,
   "metadata": {},
   "outputs": [
    {
     "data": {
      "text/plain": [
       "<matplotlib.legend.Legend at 0x7f4eccc1bcc0>"
      ]
     },
     "execution_count": 7,
     "metadata": {},
     "output_type": "execute_result"
    },
    {
     "data": {
      "image/png": "[encoded data removed]",
      "text/plain": [
       "<Figure size 432x288 with 1 Axes>"
      ]
     },
     "metadata": {},
     "output_type": "display_data"
    }
   ],
   "source": [
    "te = np.array(test_errors)\n",
    "plt.plot(range(len(errors)), errors, label=\"Train\")\n",
    "plt.plot(te[:,0], te[:,1], label=\"Test\")\n",
    "plt.legend()"
   ]
  },
  {
   "cell_type": "markdown",
   "metadata": {},
   "source": [
    "Selon les courbes d'erreur du train et test, ca semble que nous pourrions ameliorer encore. Par contre il faut prendre en compte la performance également et verifier, est-ce qu'il augmente toujours."
   ]
  },
  {
   "cell_type": "markdown",
   "metadata": {},
   "source": [
    "## Test"
   ]
  },
  {
   "cell_type": "code",
   "execution_count": 6,
   "metadata": {},
   "outputs": [
    {
     "name": "stdout",
     "output_type": "stream",
     "text": [
      "0.8265833333333333\n"
     ]
    }
   ],
   "source": [
    "corrects = 0\n",
    "for i,(X, y) in enumerate(get_minibatches(test_loader, device)):\n",
    "    y_h1 = function.forward(w1, X)\n",
    "    y_h2 = activation1.forward(y_h1)\n",
    "    y_h3 = function.forward(w2, y_h2)\n",
    "    y_pred = activation2.forward(y_h3).t()\n",
    "    \n",
    "    corrects += (y_pred.argmax(1) == y.argmax(1)).sum()\n",
    "    \n",
    "print(corrects.cpu().numpy() / test_size)"
   ]
  },
  {
   "cell_type": "markdown",
   "metadata": {},
   "source": [
    "Avec encore plus des iterations ou plus grand bas d'apprentissage, nous pourraions encore ameliorer l'accuracy."
   ]
  }
 ],
 "metadata": {
  "kernelspec": {
   "display_name": "Python 3",
   "language": "python",
   "name": "python3"
  },
  "language_info": {
   "codemirror_mode": {
    "name": "ipython",
    "version": 3
   },
   "file_extension": ".py",
   "mimetype": "text/x-python",
   "name": "python",
   "nbconvert_exporter": "python",
   "pygments_lexer": "ipython3",
   "version": "3.6.5"
  }
 },
 "nbformat": 4,
 "nbformat_minor": 2
}
