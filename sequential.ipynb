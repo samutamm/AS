{
 "cells": [
  {
   "cell_type": "code",
   "execution_count": 8,
   "metadata": {},
   "outputs": [
    {
     "name": "stderr",
     "output_type": "stream",
     "text": [
      "/home/samutamm/virtualenvironments/datascience/lib/python3.6/importlib/_bootstrap.py:219: RuntimeWarning: numpy.dtype size changed, may indicate binary incompatibility. Expected 96, got 88\n",
      "  return f(*args, **kwds)\n",
      "/home/samutamm/virtualenvironments/datascience/lib/python3.6/importlib/_bootstrap.py:219: RuntimeWarning: numpy.dtype size changed, may indicate binary incompatibility. Expected 96, got 88\n",
      "  return f(*args, **kwds)\n"
     ]
    },
    {
     "name": "stdout",
     "output_type": "stream",
     "text": [
      "The autoreload extension is already loaded. To reload it, use:\n",
      "  %reload_ext autoreload\n"
     ]
    }
   ],
   "source": [
    "from Function import Function\n",
    "import numpy as np\n",
    "import pandas as pd\n",
    "from Module import Lineaire, MSE, Hinge\n",
    "from tools import get_patches, pad_to_32\n",
    "import torch\n",
    "from sklearn.model_selection import train_test_split\n",
    "import matplotlib.pyplot as plt\n",
    "import sys\n",
    "%load_ext autoreload\n",
    "%autoreload 2\n",
    "\n",
    "from load_data import get_train_test_loaders"
   ]
  },
  {
   "cell_type": "code",
   "execution_count": 7,
   "metadata": {},
   "outputs": [],
   "source": [
    "train_loader,test_loader = get_train_test_loaders()"
   ]
  },
  {
   "cell_type": "code",
   "execution_count": 9,
   "metadata": {},
   "outputs": [],
   "source": [
    "def get_minibatches(loader):\n",
    "    for data, target in loader:\n",
    "        batch_n = data.size()[0]\n",
    "        X = data.view(-1, batch_n)\n",
    "        X = torch.cat((torch.ones((1,batch_n)), X), 0)\n",
    "        \n",
    "        y = target.view(batch_n, 1).float()\n",
    "        yield X, y"
   ]
  },
  {
   "cell_type": "code",
   "execution_count": null,
   "metadata": {},
   "outputs": [],
   "source": [
    "torch.cuda.set_device(0)\n",
    "\n",
    "layers_dims = [28*28 + 1, 10, 1]\n",
    "\n",
    "epsilon = 0.0001\n",
    "\n",
    "l1 = Lineaire(layers_dims[0], layers_dims[1])\n",
    "a1 = None # Tanh\n",
    "l2 = Lineaire(layers_dims[1], layers_dims[2])\n",
    "a2 = None # Sigmoid\n",
    "loss = MSE()\n",
    "\n",
    "l1.initialize_parameters()\n",
    "\n",
    "train_errors = []\n",
    "test_errors = []\n",
    "\n",
    "\n",
    "\n",
    "for epoch in range(40):\n",
    "    if epoch % 10 == 0:\n",
    "        print(\"Epoch {}\".format(str(epoch)))\n",
    "    train_error = 0\n",
    "    for i,(X, y) in enumerate(get_minibatches(train_loader)):\n",
    "        model.grad_zero()      \n",
    "        \n",
    "        z1 = model.forward(X)\n",
    "        yhat = torch.sign(z1)\n",
    "        train_error += loss.forward(y,yhat).sum()\n",
    "        \n",
    "        #import pdb; pdb.set_trace()\n",
    "        \n",
    "        delta_Z = loss.backward(y,z1)\n",
    "        model.backward_update_gradient(X, delta_Z)\n",
    "        \n",
    "        model.update_parameters(epsilon)"
   ]
  }
 ],
 "metadata": {
  "kernelspec": {
   "display_name": "Python 3",
   "language": "python",
   "name": "python3"
  },
  "language_info": {
   "codemirror_mode": {
    "name": "ipython",
    "version": 3
   },
   "file_extension": ".py",
   "mimetype": "text/x-python",
   "name": "python",
   "nbconvert_exporter": "python",
   "pygments_lexer": "ipython3",
   "version": "3.6.5"
  }
 },
 "nbformat": 4,
 "nbformat_minor": 2
}
