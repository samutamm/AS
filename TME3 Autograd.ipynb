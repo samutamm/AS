{
 "cells": [
  {
   "cell_type": "code",
   "execution_count": null,
   "metadata": {},
   "outputs": [],
   "source": [
    "import numpy as np\n",
    "import pandas as pd\n",
    "import torch\n",
    "from sklearn.model_selection import train_test_split\n",
    "import matplotlib.pyplot as plt\n",
    "import sys\n",
    "from Function import Function\n",
    "from losses import MSE\n",
    "from activations import TanhActivation, SigmoidActivation\n",
    "\n",
    "from load_data import get_train_test_loaders\n",
    "\n",
    "from torch.nn.modules.loss import CrossEntropyLoss\n",
    "\n",
    "%load_ext autoreload\n",
    "%autoreload 2"
   ]
  },
  {
   "cell_type": "code",
   "execution_count": null,
   "metadata": {},
   "outputs": [],
   "source": [
    "train_loader,test_loader, train_size, test_size = get_train_test_loaders(binary=False)\n",
    "\n",
    "def get_minibatches(loader, device):\n",
    "    for data, target in loader:\n",
    "        normalize = torch.nn.BatchNorm2d(1)\n",
    "        data = normalize(data)\n",
    "        #import pdb;pdb.set_trace()\n",
    "        \n",
    "        data = torch.squeeze(data)\n",
    "        target = target.cuda(async=True)\n",
    "        data = data.cuda(async=True)\n",
    "        \n",
    "        batch_n = data.size()[0]\n",
    "        X = data.view(batch_n, -1)\n",
    "        ones = torch.ones((X.size()[0], 1), device=device)\n",
    "        X = torch.cat((X, ones), 1)\n",
    "        \n",
    "        y_onehot = torch.zeros((target.size()[0], 10), device=device)\n",
    "        y_onehot.zero_()\n",
    "        y_onehot.scatter_(1, target.view(-1,1), 1)\n",
    "        \n",
    "        X = torch.autograd.Variable(X)\n",
    "        y = torch.autograd.Variable(y_onehot)\n",
    "        yield X.t(), y"
   ]
  },
  {
   "cell_type": "code",
   "execution_count": null,
   "metadata": {},
   "outputs": [],
   "source": [
    "device = torch.device('cuda')\n",
    "dtype = torch.float\n",
    "\n",
    "layers_dims = [28*28 + 1, 128, 10]\n",
    "batch_N = 128\n",
    "\n",
    "activation1 = TanhActivation() # Tanh\n",
    "activation2 = SigmoidActivation() # Sigmoid\n",
    "\n",
    "loss_function = CrossEntropyLoss()\n",
    "function = Function()\n",
    "\n",
    "w1 = torch.randn(layers_dims[1], layers_dims[0], dtype=dtype, device=device, requires_grad=True)\n",
    "w2 = torch.randn(layers_dims[2], layers_dims[1], dtype=dtype, device=device, requires_grad=True)\n",
    "\n",
    "with torch.no_grad():\n",
    "    w1 *= 0.01\n",
    "    w2 *= 0.01\n",
    "\n",
    "learning_rate = 1e-7\n",
    "for t in range(50):\n",
    "    \n",
    "    for i,(X, y) in enumerate(get_minibatches(train_loader, device)):\n",
    "        y_h1 = function.forward(w1, X)\n",
    "        y_h2 = activation1.forward(y_h1)\n",
    "        y_h3 = function.forward(w2, y_h2)\n",
    "        y_pred = activation2.forward(y_h3).t()\n",
    "        \n",
    "        # replace nans with 0\n",
    "        y_pred = torch.where(torch.isnan(y_pred), torch.zeros(1, device=device, dtype=dtype), y_pred)\n",
    "                             \n",
    "        loss = loss_function(y_pred, y.argmax(1))\n",
    "        print(t, loss.item())\n",
    "\n",
    "        loss.backward()\n",
    "        \n",
    "        with torch.no_grad():\n",
    "            #import pdb; pdb.set_trace()\n",
    "            w1 -= learning_rate * w1.grad\n",
    "            w2 -= learning_rate * w2.grad\n",
    "\n",
    "            # Manually zero the gradients after running the backward pass\n",
    "            w1.grad.zero_()\n",
    "            w2.grad.zero_()"
   ]
  },
  {
   "cell_type": "code",
   "execution_count": null,
   "metadata": {},
   "outputs": [],
   "source": [
    "#torch.nn.init.constant_(tensor, 1)\n",
    "torch.tensor([0.01], device=device, dtype=dtype).expand(y.shape)"
   ]
  },
  {
   "cell_type": "code",
   "execution_count": null,
   "metadata": {},
   "outputs": [],
   "source": [
    "w1"
   ]
  }
 ],
 "metadata": {
  "kernelspec": {
   "display_name": "Python 3",
   "language": "python",
   "name": "python3"
  },
  "language_info": {
   "codemirror_mode": {
    "name": "ipython",
    "version": 3
   },
   "file_extension": ".py",
   "mimetype": "text/x-python",
   "name": "python",
   "nbconvert_exporter": "python",
   "pygments_lexer": "ipython3",
   "version": "3.6.5"
  }
 },
 "nbformat": 4,
 "nbformat_minor": 2
}
