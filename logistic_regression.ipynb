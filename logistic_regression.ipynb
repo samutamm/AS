{
 "cells": [
  {
   "cell_type": "markdown",
   "metadata": {},
   "source": [
    "# 1.3 Regression logistique\n",
    "\n",
    "Je n'ai pas reussi fini Regression logistique non plus. "
   ]
  },
  {
   "cell_type": "code",
   "execution_count": 1,
   "metadata": {},
   "outputs": [],
   "source": [
    "from Module import Lineaire, MSE, CrossEntropy, SigmoidModule\n",
    "import numpy as np\n",
    "import matplotlib.pyplot as plt\n",
    "import torch\n",
    "from torchvision import datasets, transforms\n",
    "from torch.utils.data.sampler import SubsetRandomSampler\n",
    "\n",
    "%load_ext autoreload\n",
    "%autoreload 2"
   ]
  },
  {
   "cell_type": "code",
   "execution_count": 2,
   "metadata": {},
   "outputs": [],
   "source": [
    "batch_size=64\n",
    "\n",
    "loader = torch.utils.data.DataLoader(\n",
    "    datasets.MNIST('../data', train=True, download=True, \n",
    "                          transform=transforms.Compose(\n",
    "                              [transforms.ToTensor(),\n",
    "                              transforms.Normalize((0.1307,),(0.3081,))]\n",
    "                          )), \n",
    "    batch_size=batch_size, \n",
    "    shuffle=True\n",
    ")\n",
    "\n",
    "labels = loader.dataset.train_labels\n",
    "label1 = 0\n",
    "label2 = 1\n",
    "mask = (labels == label1) + (labels == label2) > 0\n",
    "\n",
    "loader.dataset.train_data = loader.dataset.train_data[mask]\n",
    "loader.dataset.train_labels = loader.dataset.train_labels[mask]\n",
    "\n",
    "labels = torch.where(loader.dataset.train_labels == label1, torch.ones(1), -torch.ones(1))\n",
    "loader.dataset.train_labels = labels\n",
    "\n",
    "full_dataset = loader.dataset.train_data\n",
    "N = full_dataset.size()[0]\n",
    "train_size = int(0.8 * N)\n",
    "test_size = N - train_size\n",
    "train_indices, test_indices = torch.utils.data.random_split(full_dataset, [train_size, test_size])\n",
    "\n",
    "train_loader = torch.utils.data.DataLoader(\n",
    "    loader.dataset, \n",
    "    batch_size=batch_size, \n",
    "    sampler=SubsetRandomSampler(train_indices.indices)\n",
    ")\n",
    "\n",
    "test_loader = torch.utils.data.DataLoader(\n",
    "    loader.dataset, \n",
    "    batch_size=batch_size, \n",
    "    sampler=SubsetRandomSampler(test_indices.indices)\n",
    ")"
   ]
  },
  {
   "cell_type": "code",
   "execution_count": 25,
   "metadata": {},
   "outputs": [
    {
     "name": "stdout",
     "output_type": "stream",
     "text": [
      "Epoch 0\n",
      "Epoch 10\n"
     ]
    }
   ],
   "source": [
    "torch.cuda.set_device(0)\n",
    "\n",
    "dim_in = 28*28 + 1\n",
    "dim_out = 1\n",
    "\n",
    "epsilon = 0.0001\n",
    "model = Lineaire(dim_in, dim_out)\n",
    "model.initialize_parameters()\n",
    "loss = CrossEntropy()\n",
    "activation = SigmoidModule()\n",
    "\n",
    "\n",
    "train_errors = []\n",
    "test_errors = []\n",
    "\n",
    "\n",
    "\n",
    "for epoch in range(20):\n",
    "    if epoch % 10 == 0:\n",
    "        print(\"Epoch {}\".format(str(epoch)))\n",
    "    train_error = 0\n",
    "    for i,(data, y) in enumerate(train_loader):\n",
    "        model.grad_zero()\n",
    "        batch_n = data.size()[0]\n",
    "        X = data.view(-1, batch_n)\n",
    "        X = torch.cat((torch.ones((1,batch_n)), X), 0)\n",
    "        \n",
    "        #Forward pour obtenir l'erreur\n",
    "        a0 = X\n",
    "        z = model.forward(a0)\n",
    "        a1 = activation.forward(z)\n",
    "        \n",
    "        train_error += loss.forward(y,a1)\n",
    "        #import pdb; pdb.set_trace()\n",
    "        error = loss.backward(y,a1)\n",
    "        #Backward\n",
    "        dZ = activation.backward_delta(error, a1)\n",
    "        \n",
    "        model.backward_update_gradient(a1 , dZ)\n",
    "        model.update_parameters(epsilon)\n",
    "    train_errors.append(train_error.numpy() / train_size) # mean\n",
    "    \n",
    "    continue\n",
    "    test_error = 0\n",
    "    for i,(data, y) in enumerate(test_loader):        \n",
    "        batch_n = data.size()[0]\n",
    "        X = data.view(-1, batch_n)\n",
    "        X = torch.cat((torch.ones((1,batch_n)), X), 0)\n",
    "\n",
    "        yhat = torch.sign(model.forward(X))\n",
    "        \n",
    "        test_error += loss.forward(y,yhat).sum()\n",
    "    test_errors.append(test_error.numpy() / test_size) # mean"
   ]
  },
  {
   "cell_type": "code",
   "execution_count": 26,
   "metadata": {},
   "outputs": [
    {
     "data": {
      "text/plain": [
       "<matplotlib.image.AxesImage at 0x7f7fb0e09dd8>"
      ]
     },
     "execution_count": 26,
     "metadata": {},
     "output_type": "execute_result"
    },
    {
     "data": {
      "image/png": "[encoded data removed]",
      "text/plain": [
       "<Figure size 432x288 with 1 Axes>"
      ]
     },
     "metadata": {},
     "output_type": "display_data"
    }
   ],
   "source": [
    "plt.imshow(model.W[1:].view(28,28))"
   ]
  }
 ],
 "metadata": {
  "kernelspec": {
   "display_name": "Python 3",
   "language": "python",
   "name": "python3"
  },
  "language_info": {
   "codemirror_mode": {
    "name": "ipython",
    "version": 3
   },
   "file_extension": ".py",
   "mimetype": "text/x-python",
   "name": "python",
   "nbconvert_exporter": "python",
   "pygments_lexer": "ipython3",
   "version": "3.6.5"
  }
 },
 "nbformat": 4,
 "nbformat_minor": 2
}
