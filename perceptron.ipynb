{
 "cells": [
  {
   "cell_type": "markdown",
   "metadata": {},
   "source": [
    "# 1.2 Perceptron\n",
    "Je n'ai pas reussi le faire marcher, il y a quelque soucis bizarre dans aprentissage. Je passe aux regression logistique"
   ]
  },
  {
   "cell_type": "code",
   "execution_count": 3,
   "metadata": {},
   "outputs": [],
   "source": [
    "import numpy as np\n",
    "import pandas as pd\n",
    "from Module import Lineaire\n",
    "from losses import MSE, Hinge\n",
    "from tools import get_patches, pad_to_32\n",
    "import torch\n",
    "from sklearn.model_selection import train_test_split\n",
    "import matplotlib.pyplot as plt\n",
    "import sys\n",
    "%load_ext autoreload\n",
    "%autoreload 2\n",
    "\n",
    "from torchvision import datasets, transforms\n",
    "from torch.utils.data.sampler import SubsetRandomSampler\n",
    "\n",
    "from load_data import get_train_test_loaders"
   ]
  },
  {
   "cell_type": "code",
   "execution_count": 17,
   "metadata": {},
   "outputs": [],
   "source": [
    "train_loader,test_loader, train_size, test_size = get_train_test_loaders()"
   ]
  },
  {
   "cell_type": "code",
   "execution_count": 19,
   "metadata": {
    "scrolled": true
   },
   "outputs": [
    {
     "name": "stdout",
     "output_type": "stream",
     "text": [
      "Epoch 0\n",
      "tensor(6590.)\n",
      "tensor(1102.)\n",
      "tensor(2899.)\n",
      "tensor(482.)\n",
      "tensor(1527.)\n",
      "tensor(300.)\n",
      "tensor(1030.)\n",
      "tensor(225.)\n",
      "tensor(796.)\n",
      "tensor(172.)\n",
      "tensor(657.)\n",
      "tensor(148.)\n",
      "tensor(571.)\n",
      "tensor(128.)\n",
      "tensor(501.)\n",
      "tensor(112.)\n",
      "tensor(449.)\n",
      "tensor(102.)\n",
      "tensor(417.)\n",
      "tensor(93.)\n",
      "Epoch 10\n",
      "tensor(391.)\n",
      "tensor(86.)\n",
      "tensor(369.)\n",
      "tensor(81.)\n",
      "tensor(348.)\n",
      "tensor(77.)\n",
      "tensor(329.)\n",
      "tensor(75.)\n",
      "tensor(297.)\n",
      "tensor(72.)\n",
      "tensor(282.)\n",
      "tensor(66.)\n",
      "tensor(273.)\n",
      "tensor(65.)\n",
      "tensor(257.)\n",
      "tensor(64.)\n",
      "tensor(258.)\n",
      "tensor(63.)\n",
      "tensor(255.)\n",
      "tensor(61.)\n",
      "Epoch 20\n",
      "tensor(250.)\n",
      "tensor(60.)\n",
      "tensor(242.)\n",
      "tensor(59.)\n",
      "tensor(232.)\n",
      "tensor(56.)\n",
      "tensor(224.)\n",
      "tensor(54.)\n",
      "tensor(221.)\n",
      "tensor(53.)\n",
      "tensor(214.)\n",
      "tensor(52.)\n",
      "tensor(205.)\n",
      "tensor(50.)\n",
      "tensor(204.)\n",
      "tensor(47.)\n",
      "tensor(201.)\n",
      "tensor(43.)\n",
      "tensor(194.)\n",
      "tensor(43.)\n",
      "Epoch 30\n",
      "tensor(194.)\n",
      "tensor(41.)\n",
      "tensor(189.)\n",
      "tensor(40.)\n",
      "tensor(187.)\n",
      "tensor(39.)\n",
      "tensor(185.)\n",
      "tensor(39.)\n",
      "tensor(179.)\n",
      "tensor(38.)\n",
      "tensor(178.)\n",
      "tensor(38.)\n",
      "tensor(174.)\n",
      "tensor(38.)\n",
      "tensor(171.)\n",
      "tensor(36.)\n",
      "tensor(171.)\n",
      "tensor(35.)\n",
      "tensor(170.)\n",
      "tensor(35.)\n"
     ]
    }
   ],
   "source": [
    "torch.cuda.set_device(0)\n",
    "\n",
    "dim_in = 28*28 + 1\n",
    "dim_out = 1\n",
    "\n",
    "epsilon = 0.0001\n",
    "model = Lineaire(dim_in, dim_out)\n",
    "model.initialize_parameters()\n",
    "\n",
    "train_errors = []\n",
    "test_errors = []\n",
    "\n",
    "loss = Hinge()\n",
    "\n",
    "for epoch in range(40):\n",
    "    if epoch % 10 == 0:\n",
    "        print(\"Epoch {}\".format(str(epoch)))\n",
    "    train_error = 0\n",
    "    for i,(data, y) in enumerate(train_loader):\n",
    "        model.grad_zero()\n",
    "        batch_n = data.size()[0]\n",
    "        X = data.view(batch_n, -1)\n",
    "        X = torch.cat((torch.ones((batch_n, 1)), X), 1)\n",
    "        \n",
    "        y = y.view(batch_n, 1).float()\n",
    "        \n",
    "        z1 = model.forward(X)\n",
    "        yhat = torch.sign(z1)\n",
    "        train_error += loss.forward(y,yhat).sum()\n",
    "        \n",
    "        #import pdb; pdb.set_trace()\n",
    "        \n",
    "        delta_Z = loss.backward(y,z1)\n",
    "        model.backward_update_gradient(X, delta_Z)\n",
    "        \n",
    "        model.update_parameters(epsilon)\n",
    "    train_errors.append(train_error.numpy() / train_size) # mean\n",
    "    print(train_error)\n",
    "    \n",
    "    test_error = 0\n",
    "    for i,(data, y) in enumerate(test_loader):\n",
    "        batch_n = data.size()[0]\n",
    "        X = data.view(batch_n, -1)\n",
    "        X = torch.cat((torch.ones((batch_n, 1)), X), 1)\n",
    "        y[y==0] = -1\n",
    "        y = y.view((batch_n, 1)).float()\n",
    "                \n",
    "        yhat = torch.sign(model.forward(X)).float()\n",
    "        \n",
    "        test_error += loss.forward(y,yhat).sum()\n",
    "    test_errors.append(test_error.numpy() / test_size) # mean\n",
    "    print(test_error)"
   ]
  },
  {
   "cell_type": "code",
   "execution_count": 23,
   "metadata": {},
   "outputs": [
    {
     "data": {
      "text/plain": [
       "<matplotlib.image.AxesImage at 0x7f9874d92d30>"
      ]
     },
     "execution_count": 23,
     "metadata": {},
     "output_type": "execute_result"
    },
    {
     "data": {
      "image/png": "[encoded data removed]",
      "text/plain": [
       "<Figure size 432x288 with 1 Axes>"
      ]
     },
     "metadata": {},
     "output_type": "display_data"
    }
   ],
   "source": [
    "plt.imshow(model.W[0,1:].view(28,28))\n",
    "#model.W.shape"
   ]
  },
  {
   "cell_type": "code",
   "execution_count": 24,
   "metadata": {},
   "outputs": [
    {
     "data": {
      "text/plain": [
       "<matplotlib.legend.Legend at 0x7f9875c51240>"
      ]
     },
     "execution_count": 24,
     "metadata": {},
     "output_type": "execute_result"
    },
    {
     "data": {
      "image/png": "[encoded data removed]",
      "text/plain": [
       "<Figure size 432x288 with 1 Axes>"
      ]
     },
     "metadata": {},
     "output_type": "display_data"
    }
   ],
   "source": [
    "plt.figure()\n",
    "#plt.ylim([0,0.01])\n",
    "plt.plot(range(len(train_errors)), train_errors, label=\"Error d'apprentissage\")\n",
    "plt.plot(range(len(test_errors)), test_errors, label=\"Error du test\")\n",
    "plt.xlabel('Epochs')\n",
    "plt.ylabel('Error divisé par nombre des examples')\n",
    "plt.legend()"
   ]
  },
  {
   "cell_type": "code",
   "execution_count": 26,
   "metadata": {},
   "outputs": [
    {
     "name": "stdout",
     "output_type": "stream",
     "text": [
      "tensor(0.9864)\n"
     ]
    }
   ],
   "source": [
    "correct = 0\n",
    "bad_classified_zero = []\n",
    "bad_classified_one = []\n",
    "for i,(data, y) in enumerate(test_loader):\n",
    "        batch_n = data.size()[0]\n",
    "        batch_n = data.size()[0]\n",
    "        X = data.view(batch_n, -1)\n",
    "        X = torch.cat((torch.ones((batch_n, 1)), X), 1)\n",
    "        #import pdb; pdb.set_trace()\n",
    "        \n",
    "        #y[y==0] = -1\n",
    "        y = y.view((batch_n, 1)).float()\n",
    "                \n",
    "        yhat = torch.sign(model.forward(X)).float()\n",
    "        \n",
    "        correct += (y == yhat).sum()\n",
    "\n",
    "        bad_clf_0 = ((y != yhat) * (y == 1))\n",
    "        bad_clf_1 = ((y != yhat) * (y == -1))\n",
    "        \n",
    "        for img0 in data[bad_clf_0]:\n",
    "            bad_classified_zero.append(img0)\n",
    "        for img1 in data[bad_clf_1]:\n",
    "            bad_classified_one.append(img1)\n",
    "\n",
    "print(correct.float() / test_size)"
   ]
  },
  {
   "cell_type": "code",
   "execution_count": 14,
   "metadata": {},
   "outputs": [
    {
     "name": "stdout",
     "output_type": "stream",
     "text": [
      "torch.Size([28, 28])\n",
      "torch.Size([28, 28])\n",
      "torch.Size([28, 28])\n",
      "torch.Size([28, 28])\n",
      "torch.Size([28, 28])\n"
     ]
    },
    {
     "data": {
      "image/png": "[encoded data removed]",
      "text/plain": [
       "<Figure size 432x288 with 1 Axes>"
      ]
     },
     "metadata": {},
     "output_type": "display_data"
    },
    {
     "data": {
      "image/png": "[encoded data removed]",
      "text/plain": [
       "<Figure size 432x288 with 1 Axes>"
      ]
     },
     "metadata": {},
     "output_type": "display_data"
    },
    {
     "data": {
      "image/png": "[encoded data removed]",
      "text/plain": [
       "<Figure size 432x288 with 1 Axes>"
      ]
     },
     "metadata": {},
     "output_type": "display_data"
    },
    {
     "data": {
      "image/png": "[encoded data removed]",
      "text/plain": [
       "<Figure size 432x288 with 1 Axes>"
      ]
     },
     "metadata": {},
     "output_type": "display_data"
    },
    {
     "data": {
      "image/png": "[encoded data removed]",
      "text/plain": [
       "<Figure size 432x288 with 1 Axes>"
      ]
     },
     "metadata": {},
     "output_type": "display_data"
    }
   ],
   "source": [
    "for image in bad_classified_one[:5]:\n",
    "    print(image.shape)\n",
    "    plt.figure()\n",
    "    plt.imshow(image)"
   ]
  }
 ],
 "metadata": {
  "kernelspec": {
   "display_name": "Python 3",
   "language": "python",
   "name": "python3"
  },
  "language_info": {
   "codemirror_mode": {
    "name": "ipython",
    "version": 3
   },
   "file_extension": ".py",
   "mimetype": "text/x-python",
   "name": "python",
   "nbconvert_exporter": "python",
   "pygments_lexer": "ipython3",
   "version": "3.6.5"
  }
 },
 "nbformat": 4,
 "nbformat_minor": 2
}
